{
 "cells": [
  {
   "cell_type": "raw",
   "metadata": {},
   "source": [
    "During model deployment , we need to deploy atleast feature engineering, feature selection and model  into the production\n",
    "Feature selection algorithms:\n",
    "1. Filter algorithm\n",
    "2. Wrapper algorithm\n",
    "3. Embedded Methods"
   ]
  }
 ],
 "metadata": {
  "kernelspec": {
   "display_name": "Python 3",
   "language": "python",
   "name": "python3"
  },
  "language_info": {
   "codemirror_mode": {
    "name": "ipython",
    "version": 3
   },
   "file_extension": ".py",
   "mimetype": "text/x-python",
   "name": "python",
   "nbconvert_exporter": "python",
   "pygments_lexer": "ipython3",
   "version": "3.6.3"
  }
 },
 "nbformat": 4,
 "nbformat_minor": 2
}
